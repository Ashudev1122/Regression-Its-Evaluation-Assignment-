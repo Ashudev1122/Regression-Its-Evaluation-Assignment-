{
  "nbformat": 4,
  "nbformat_minor": 0,
  "metadata": {
    "colab": {
      "provenance": []
    },
    "kernelspec": {
      "name": "python3",
      "display_name": "Python 3"
    },
    "language_info": {
      "name": "python"
    }
  },
  "cells": [
    {
      "cell_type": "markdown",
      "source": [
        "**Question 1:**  What is Simple Linear Regression?\n",
        "\n",
        "**Answer:**\n",
        "\n",
        "Simple Linear Regression is a statistical method used to model the relationship between two variables:\n",
        "\n",
        "One independent variable (X) – also called the predictor or input.\n",
        "\n",
        "One dependent variable (Y) – also called the response or output.\n",
        "\n",
        "The goal is to find the best-fitting straight line (called the regression line) that predicts the value of Y based on X.\n",
        "\n",
        "The mathematical equation:\n",
        "\n",
        "Y=a + bX + ε\n",
        "\n",
        "Where:\n",
        "\n",
        "Y = dependent variable\n",
        "\n",
        "X = independent variable\n",
        "\n",
        "a = intercept (the value of Y when X = 0)\n",
        "\n",
        "b = slope (change in Y for a unit change in X)\n",
        "\n",
        "ε = error term (difference between predicted and actual Y)\n",
        "\n",
        "Example:\n",
        "If we want to predict a student’s score (Y) based on the number of hours studied (X), simple linear regression helps to find the best line that estimates this relationship"
      ],
      "metadata": {
        "id": "H5HkQzPpLhXz"
      }
    },
    {
      "cell_type": "markdown",
      "source": [
        "**Question 2:** What are the key assumptions of Simple Linear Regression?\n",
        "\n",
        "**Answer:**\n",
        "\n",
        "When we use simple linear regression, we’re basically trying to draw the best straight line through a set of points to predict one thing from another — like predicting someone's weight based on their height. But for that line to make good predictions, a few important things need to be true. These are called assumptions, and here they are:\n",
        "\n",
        "1. **Linearity**\n",
        "\n",
        "* We assume that the relationship between the two variables is a straight line.\n",
        " In simple terms, as X increases, Y should increase or decrease in a steady, predictable way — not in curves or zig-zags.\n",
        "\n",
        "2. **Independence of Errors**\n",
        "* The errors (the differences between what we predicted and what actually happened) shouldn’t be linked to each other.\n",
        "\n",
        "  For example, if you're predicting sales each day, today's error shouldn't affect tomorrow’s.\n",
        "\n",
        "3. **Equal Spread of Errors (Homoscedasticity)**\n",
        "* The size of the errors should be about the same no matter what value X takes.\n",
        "If the errors are small when X is small and big when X is big, that’s a problem. The model likes balance.\n",
        "\n",
        "4. **Normally Distributed Errors**\n",
        "* The errors should follow a normal (bell curve) distribution.\n",
        "\n",
        "  This helps when we want to test things like whether our model is statistically good or not."
      ],
      "metadata": {
        "id": "19oG0LIJacPJ"
      }
    },
    {
      "cell_type": "markdown",
      "source": [
        "**Question 3:** What is heteroscedasticity, and why is it important to address in regression\n",
        "models?\n",
        "\n",
        "**Answer (Humanized Version):**\n",
        "\n",
        "**What is Heteroscedasticity?**\n",
        "\n",
        "* Heteroscedasticity (sounds complex, but it's not that scary!) happens when the spread or variance of the errors (residuals) isn’t constant across all values of the independent variable (X).\n",
        "\n",
        "**In simpler terms:**\n",
        "\n",
        "* When you make predictions using a regression model, the differences between the predicted values and the actual values (errors) should ideally be roughly the same everywhere. But if those errors start small and then get bigger (or vice versa) as X increases, that’s heteroscedasticity.\n",
        "\n",
        "**Why is it important?**\n",
        "\n",
        "* Heteroscedasticity can mess up your model's reliability in a few ways:\n",
        "\n",
        "Incorrect predictions – The model might be too confident in areas where it shouldn’t be.\n",
        "\n",
        "Misleading significance tests – It can make your p-values and confidence intervals inaccurate, which means you might wrongly think a variable is important (or not).\n",
        "\n",
        "Violates an assumption – One of the key assumptions in linear regression is that errors have constant variance. Heteroscedasticity breaks that rule.\n",
        "\n",
        "**Real-life example:**\n",
        "* Imagine you're predicting people’s expenses based on their income.\n",
        "At lower income levels, expenses might be very consistent. But at higher income levels, expenses could vary a lot — some spend a lot, some save more. That’s heteroscedasticity — the spread of errors changes"
      ],
      "metadata": {
        "id": "-aHlGMI8aiwg"
      }
    },
    {
      "cell_type": "markdown",
      "source": [
        "**Question 4:** What is Multiple Linear Regression?\n",
        "\n",
        "* Multiple Linear Regression is just like Simple Linear Regression — but instead of using one input (X) to predict an outcome (Y), we use two or more inputs.\n",
        "\n",
        " You’re still drawing a line (or more like a plane or surface in higher dimensions), but now you're using multiple factors to predict your result."
      ],
      "metadata": {
        "id": "gWyHz2Ea5EYT"
      }
    },
    {
      "cell_type": "markdown",
      "source": [
        "**Question 5:** What is polynomial regression, and how does it differ from linear\n",
        "regression?\n",
        "\n",
        "* Polynomial regression is a type of regression that models the relationship between the independent variable (X) and the dependent variable (Y) as an nth-degree polynomial."
      ],
      "metadata": {
        "id": "ohhxq66QUfeU"
      }
    },
    {
      "cell_type": "markdown",
      "source": [
        "**Question 6:**  Implement a Python program to fit a Simple Linear Regression model to\n",
        "the following sample data:\n",
        "\n",
        "● X = [1, 2, 3, 4, 5]\n",
        "\n",
        "● Y = [2.1, 4.3, 6.1, 7.9, 10.2]\n",
        "\n",
        "Plot the regression line over the data points.\n",
        "(Include your Python code and output in the code box below.)\n",
        "\n",
        "\n"
      ],
      "metadata": {
        "id": "f0EE-cUmaYjf"
      }
    },
    {
      "cell_type": "markdown",
      "source": [],
      "metadata": {
        "id": "lr2Fsnf8hrM2"
      }
    },
    {
      "cell_type": "code",
      "source": [
        "from sklearn.linear_model import LinearRegression\n",
        "import matplotlib.pyplot as plt\n",
        "\n",
        "# Data\n",
        "X = [[1], [2], [3], [4], [5]]\n",
        "Y = [2.1, 4.3, 6.1, 7.9, 10.2]\n",
        "\n",
        "# Model\n",
        "model = LinearRegression()\n",
        "model.fit(X, Y)\n",
        "\n",
        "# Predict\n",
        "Y_pred = model.predict(X)\n",
        "\n",
        "# Plot\n",
        "plt.scatter(X, Y, color='blue')          # Original points\n",
        "plt.plot(X, Y_pred, color='red')         # Regression line\n",
        "plt.xlabel('X')\n",
        "plt.ylabel('Y')\n",
        "plt.title('Simple Linear Regression')\n",
        "plt.show()\n"
      ],
      "metadata": {
        "colab": {
          "base_uri": "https://localhost:8080/",
          "height": 472
        },
        "id": "vnemKXPXsL2v",
        "outputId": "c9db2909-67ef-48fd-94f1-60f3a7dfd7de"
      },
      "execution_count": 2,
      "outputs": [
        {
          "output_type": "display_data",
          "data": {
            "text/plain": [
              "<Figure size 640x480 with 1 Axes>"
            ],
            "image/png": "[encoded data removed]"
          },
          "metadata": {}
        }
      ]
    },
    {
      "cell_type": "markdown",
      "source": [
        "**Question 7:** Fit a Multiple Linear Regression model on this sample data:\n",
        "\n",
        "● Area = [1200, 1500, 1800, 2000]\n",
        "\n",
        "● Rooms = [2, 3, 3, 4]\n",
        "\n",
        "● Price = [250000, 300000, 320000, 370000]\n",
        "\n",
        "Check for multicollinearity using VIF and report the results.\n",
        "(Include your Python code and output in the code box below.)\n",
        "Answer:  "
      ],
      "metadata": {
        "id": "9KrTs370v95V"
      }
    },
    {
      "cell_type": "code",
      "source": [
        "import pandas as pd\n",
        "from sklearn.linear_model import LinearRegression\n",
        "from statsmodels.stats.outliers_influence import variance_inflation_factor\n",
        "import statsmodels.api as sm\n",
        "\n",
        "# Sample data\n",
        "data = {\n",
        "    'Area': [1200, 1500, 1800, 2000],\n",
        "    'Rooms': [2, 3, 3, 4],\n",
        "    'Price': [250000, 300000, 320000, 370000]\n",
        "}\n",
        "\n",
        "# Create DataFrame\n",
        "df = pd.DataFrame(data)\n",
        "\n",
        "# Features and target\n",
        "X = df[['Area', 'Rooms']]\n",
        "y = df['Price']\n",
        "\n",
        "# Fit Linear Regression model\n",
        "model = LinearRegression()\n",
        "model.fit(X, y)\n",
        "\n",
        "# Print model coefficients\n",
        "print(\"Intercept:\", model.intercept_)\n",
        "print(\"Coefficients:\", model.coef_)\n",
        "\n",
        "# Add constant for VIF calculation\n",
        "X_const = sm.add_constant(X)\n",
        "\n",
        "# Calculate VIF\n",
        "vif_data = pd.DataFrame()\n",
        "vif_data['Feature'] = X_const.columns\n",
        "vif_data['VIF'] = [variance_inflation_factor(X_const.values, i) for i in range(X_const.shape[1])]\n",
        "\n",
        "print(\"\\nVariance Inflation Factor (VIF):\")\n",
        "print(vif_data)\n"
      ],
      "metadata": {
        "colab": {
          "base_uri": "https://localhost:8080/"
        },
        "id": "NzbIre1pwGBL",
        "outputId": "35cb72a2-1922-4e99-e85e-e0d23404f6f6"
      },
      "execution_count": 3,
      "outputs": [
        {
          "output_type": "stream",
          "name": "stdout",
          "text": [
            "Intercept: 103157.89473684214\n",
            "Coefficients: [   63.15789474 34736.84210526]\n",
            "\n",
            "Variance Inflation Factor (VIF):\n",
            "  Feature        VIF\n",
            "0   const  34.210526\n",
            "1    Area   7.736842\n",
            "2   Rooms   7.736842\n"
          ]
        }
      ]
    },
    {
      "cell_type": "markdown",
      "source": [
        "**Question 8:**  Implement polynomial regression on the following data:\n",
        "\n",
        "● X = [1, 2, 3, 4, 5]\n",
        "\n",
        "● Y = [2.2, 4.8, 7.5, 11.2, 14.7]\n",
        "\n",
        "Fit a 2nd-degree polynomial and plot the resulting curve.\n",
        "\n",
        "(Include your Python code and output in the code box below.)\n",
        "Answer:"
      ],
      "metadata": {
        "id": "6Jq75Bxaw3BL"
      }
    },
    {
      "cell_type": "code",
      "source": [
        "import numpy as np\n",
        "import matplotlib.pyplot as plt\n",
        "from sklearn.preprocessing import PolynomialFeatures\n",
        "from sklearn.linear_model import LinearRegression\n",
        "\n",
        "# Given data\n",
        "X = np.array([1, 2, 3, 4, 5]).reshape(-1, 1)\n",
        "Y = np.array([2.2, 4.8, 7.5, 11.2, 14.7])\n",
        "\n",
        "# Create polynomial features (degree 2)\n",
        "poly = PolynomialFeatures(degree=2)\n",
        "X_poly = poly.fit_transform(X)\n",
        "\n",
        "# Fit the polynomial regression model\n",
        "model = LinearRegression()\n",
        "model.fit(X_poly, Y)\n",
        "\n",
        "# Predict values\n",
        "X_range = np.linspace(1, 5, 100).reshape(-1, 1)\n",
        "X_range_poly = poly.transform(X_range)\n",
        "Y_pred = model.predict(X_range_poly)\n",
        "\n",
        "# Print model coefficients\n",
        "print(\"Intercept:\", model.intercept_)\n",
        "print(\"Coefficients:\", model.coef_)\n",
        "\n",
        "# Plot original data and polynomial curve\n",
        "plt.scatter(X, Y, color='blue', label='Original data')\n",
        "plt.plot(X_range, Y_pred, color='red', label='Polynomial regression curve')\n",
        "plt.xlabel('X')\n",
        "plt.ylabel('Y')\n",
        "plt.title('2nd Degree Polynomial Regression')\n",
        "plt.legend()\n",
        "plt.grid(True)\n",
        "plt.show()\n"
      ],
      "metadata": {
        "colab": {
          "base_uri": "https://localhost:8080/",
          "height": 509
        },
        "id": "nzt9PSS1xVmN",
        "outputId": "7a54b1bf-d564-4d73-dfb9-42a313129c98"
      },
      "execution_count": 1,
      "outputs": [
        {
          "output_type": "stream",
          "name": "stdout",
          "text": [
            "Intercept: 0.06000000000000938\n",
            "Coefficients: [0.   1.94 0.2 ]\n"
          ]
        },
        {
          "output_type": "display_data",
          "data": {
            "text/plain": [
              "<Figure size 640x480 with 1 Axes>"
            ],
            "image/png": "[encoded data removed]"
          },
          "metadata": {}
        }
      ]
    },
    {
      "cell_type": "markdown",
      "source": [
        "**Question 9:** Create a residuals plot for a regression model trained on this data:\n",
        "\n",
        "● X = [10, 20, 30, 40, 50]\n",
        "\n",
        "● Y = [15, 35, 40, 50, 65]\n",
        "\n",
        "Assess heteroscedasticity by examining the spread of residuals."
      ],
      "metadata": {
        "id": "pN2GHRPEN8Vm"
      }
    },
    {
      "cell_type": "code",
      "source": [
        "import numpy as np\n",
        "import matplotlib.pyplot as plt\n",
        "from sklearn.linear_model import LinearRegression\n",
        "\n",
        "# Given data\n",
        "X = np.array([10, 20, 30, 40, 50]).reshape(-1, 1)\n",
        "Y = np.array([15, 35, 40, 50, 65])\n",
        "\n",
        "# Fit linear regression model\n",
        "model = LinearRegression()\n",
        "model.fit(X, Y)\n",
        "\n",
        "# Predictions and residuals\n",
        "Y_pred = model.predict(X)\n",
        "residuals = Y - Y_pred\n",
        "\n",
        "# Print coefficients and residuals\n",
        "print(\"Intercept:\", model.intercept_)\n",
        "print(\"Slope:\", model.coef_[0])\n",
        "print(\"Residuals:\", residuals)\n",
        "\n",
        "# Residuals plot\n",
        "plt.scatter(X, residuals, color='purple')\n",
        "plt.axhline(y=0, color='black', linestyle='--')\n",
        "plt.xlabel(\"X\")\n",
        "plt.ylabel(\"Residuals\")\n",
        "plt.title(\"Residuals Plot\")\n",
        "plt.grid(True)\n",
        "plt.show()\n"
      ],
      "metadata": {
        "colab": {
          "base_uri": "https://localhost:8080/",
          "height": 527
        },
        "id": "R792RzP7OABd",
        "outputId": "a0353db1-fc4b-444f-ff7c-cc8905965c23"
      },
      "execution_count": 2,
      "outputs": [
        {
          "output_type": "stream",
          "name": "stdout",
          "text": [
            "Intercept: 6.499999999999993\n",
            "Slope: 1.1500000000000001\n",
            "Residuals: [-3.   5.5 -1.  -2.5  1. ]\n"
          ]
        },
        {
          "output_type": "display_data",
          "data": {
            "text/plain": [
              "<Figure size 640x480 with 1 Axes>"
            ],
            "image/png": "[encoded data removed]"
          },
          "metadata": {}
        }
      ]
    },
    {
      "cell_type": "markdown",
      "source": [
        "**Question 10:** Imagine you are a data scientist working for a real estate company. You\n",
        "need to predict house prices using features like area, number of rooms, and location.\n",
        "However, you detect heteroscedasticity and multicollinearity in your regression\n",
        "model. Explain the steps you would take to address these issues and ensure a robust\n",
        "model.\n",
        "\n",
        "\n",
        "**Ans:**\n",
        "\n",
        "* As a data scientist working for a real estate company, my job is to build a model that can accurately predict house prices using features like area, number of rooms, and location.\n",
        "\n",
        " But if I notice two common problems — heteroscedasticity (uneven errors) and multicollinearity (features too similar) — I need to fix them to make the model reliable.\n",
        "\n",
        "* Here's how I'd handle it step by step:\n",
        "\n",
        "1. **Fixing Heteroscedasticity (Uneven Spread of Errors)**\n",
        "\n",
        " Sometimes the model makes small errors for cheaper houses and big errors for expensive ones — this is heteroscedasticity.\n",
        "\n",
        " **To fix it:**\n",
        "\n",
        "  I’d apply a log transformation to the house prices. So instead of predicting raw prices, I predict log(price) — this evens things out.\n",
        "\n",
        "  I’d check a residuals plot to see if the error spread becomes more balanced.\n",
        "\n",
        " If needed, I could use a robust regression technique that doesn’t get thrown off by unequal errors (like Weighted Least Squares or Huber Regressor).\n",
        "\n",
        "2. **Fixing Multicollinearity (Too Much Similarity Between Features)**\n",
        "Let’s say area and number of rooms are highly correlated (which is likely — bigger homes often have more rooms). This can confuse the model.\n",
        "\n",
        " **To fix this:**\n",
        "\n",
        " I’d use VIF (Variance Inflation Factor) to check which features are too similar.\n",
        "\n",
        " If VIF is too high, I might:\n",
        "\n",
        " Drop one of the correlated features\n",
        "\n",
        " Combine them (like creating a new feature: \"area per room\")\n",
        "\n",
        " Or use regularized models like Ridge or Lasso regression, which handle multicollinearity automatically."
      ],
      "metadata": {
        "id": "qSyYk_6tOb7t"
      }
    }
  ]
}